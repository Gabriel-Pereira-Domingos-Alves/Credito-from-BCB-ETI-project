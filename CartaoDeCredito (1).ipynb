{
  "nbformat": 4,
  "nbformat_minor": 0,
  "metadata": {
    "colab": {
      "provenance": []
    },
    "kernelspec": {
      "name": "python3",
      "display_name": "Python 3"
    }
  },
  "cells": [
    {
      "cell_type": "code",
      "metadata": {
        "id": "Phm1IcxuvP7d"
      },
      "source": [
        "#Importando Biblioteclas importantes para o projeto\n",
        "import requests\n",
        "import json\n",
        "import pandas as pd"
      ],
      "execution_count": 4,
      "outputs": []
    },
    {
      "cell_type": "code",
      "metadata": {
        "id": "FklbGNNIvviy"
      },
      "source": [
        "#Adquirindo os dados disponibilizados pela API do BCB\n",
        "def pegar_dados():\n",
        "  url = 'https://olinda.bcb.gov.br/olinda/servico/taxaJuros/versao/v2/odata/ConsultaUnificada?$top=1000&$filter=Modalidade%20eq%20%27ANTECIPA%C3%87%C3%83O%20DE%20FATURAS%20DE%20CART%C3%83O%20DE%20CR%C3%89DITO%20-%20PR%C3%89-FIXADO%27%20or%20Modalidade%20eq%20%27CART%C3%83O%20DE%20CR%C3%89DITO%20-%20PARCELADO%20-%20PR%C3%89-FIXADO%27%20or%20Modalidade%20eq%20%27CART%C3%83O%20DE%20CR%C3%89DITO%20-%20ROTATIVO%20TOTAL%20-%20PR%C3%89-FIXADO%27&$format=json'\n",
        "  conteudos_credito = requests.post(url).content\n",
        "  dados_credito =  json.loads(conteudos_credito)\n",
        "  return dados_credito\n",
        "\n",
        "#Chamando a função para pegar os dados e mostrar seu conteudo \n",
        "dados = pegar_dados()\n",
        "display(dados)\n"
      ],
      "execution_count": 6,
      "outputs": []
    },
    {
      "cell_type": "code",
      "source": [
        "#Função para criar uma tabela feita com os dados requisitados\n",
        "def criar_tabela(dados_tabela):\n",
        "  data_frame = pd.DataFrame(dados_tabela.get('value', 'default'))\n",
        "  data_frame.to_csv('Tabela.csv')\n",
        "\n",
        "#Criando a tabela\n",
        "criar_tabela(dados)\n",
        "\n"
      ],
      "metadata": {
        "id": "M68zjpTRQ-0q"
      },
      "execution_count": 3,
      "outputs": []
    }
  ]
}